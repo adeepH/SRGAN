{
 "cells": [
  {
   "cell_type": "markdown",
   "metadata": {
    "colab_type": "text",
    "id": "HB2CCzW3re_o"
   },
   "source": [
    "# Importing the necessary libraries"
   ]
  },
  {
   "cell_type": "code",
   "execution_count": 1,
   "metadata": {
    "colab": {
     "base_uri": "https://localhost:8080/",
     "height": 34
    },
    "colab_type": "code",
    "executionInfo": {
     "elapsed": 7501,
     "status": "ok",
     "timestamp": 1599237783077,
     "user": {
      "displayName": "Adeep Hande",
      "photoUrl": "",
      "userId": "17121113858594952704"
     },
     "user_tz": -330
    },
    "id": "wTA0bFbMre_p",
    "outputId": "d3cfc155-f77f-40c4-ee01-c4698b9acfd4"
   },
   "outputs": [],
   "source": [
    "import os\n",
    "import torch\n",
    "import numpy as np\n",
    "import torch.nn as nn\n",
    "import torch.nn.functional as F\n",
    "import torch.optim as optim\n",
    "import cv2\n",
    "#!pip install torchsummary\n",
    "from torchsummary import summary\n",
    "from tqdm import tqdm\n",
    "import matplotlib.pyplot as plt\n",
    "#!pip install torchvision\n",
    "from torchvision import models"
   ]
  },
  {
   "cell_type": "code",
   "execution_count": 2,
   "metadata": {
    "colab": {},
    "colab_type": "code",
    "executionInfo": {
     "elapsed": 961,
     "status": "ok",
     "timestamp": 1599237788154,
     "user": {
      "displayName": "Adeep Hande",
      "photoUrl": "",
      "userId": "17121113858594952704"
     },
     "user_tz": -330
    },
    "id": "tbqTunlyre_t"
   },
   "outputs": [],
   "source": [
    "celeb_data = r\"C:\\Users\\adeep\\Documents\\Celeb_data\"\n",
    "images = os.listdir(celeb_data)\n",
    "imageList = images[:600]"
   ]
  },
  {
   "cell_type": "code",
   "execution_count": 3,
   "metadata": {
    "colab": {
     "base_uri": "https://localhost:8080/",
     "height": 34
    },
    "colab_type": "code",
    "executionInfo": {
     "elapsed": 1234,
     "status": "ok",
     "timestamp": 1599237792486,
     "user": {
      "displayName": "Adeep Hande",
      "photoUrl": "",
      "userId": "17121113858594952704"
     },
     "user_tz": -330
    },
    "id": "2i50NtYtre_v",
    "outputId": "7a0abf5c-1d52-475f-f7e9-9c94a4f700a6"
   },
   "outputs": [
    {
     "data": {
      "text/plain": [
       "600"
      ]
     },
     "execution_count": 3,
     "metadata": {},
     "output_type": "execute_result"
    }
   ],
   "source": [
    "len(imageList)"
   ]
  },
  {
   "cell_type": "code",
   "execution_count": 4,
   "metadata": {
    "colab": {},
    "colab_type": "code",
    "executionInfo": {
     "elapsed": 1083,
     "status": "ok",
     "timestamp": 1599237796104,
     "user": {
      "displayName": "Adeep Hande",
      "photoUrl": "",
      "userId": "17121113858594952704"
     },
     "user_tz": -330
    },
    "id": "bM5_MGzbre_y"
   },
   "outputs": [],
   "source": [
    "#If gpu is available\n",
    "cuda = torch.device(\"cuda\" if torch.cuda.is_available() else \"cpu\")"
   ]
  },
  {
   "cell_type": "code",
   "execution_count": 5,
   "metadata": {},
   "outputs": [
    {
     "name": "stdout",
     "output_type": "stream",
     "text": [
      "Using device: cuda\n",
      "\n",
      "GeForce RTX 2060\n",
      "Memory Usage:\n",
      "Allocated: 0.0 GB\n",
      "Cached:    0.0 GB\n"
     ]
    },
    {
     "name": "stderr",
     "output_type": "stream",
     "text": [
      "C:\\Users\\adeep\\Anaconda3\\lib\\site-packages\\torch\\cuda\\memory.py:344: FutureWarning: torch.cuda.memory_cached has been renamed to torch.cuda.memory_reserved\n",
      "  warnings.warn(\n"
     ]
    }
   ],
   "source": [
    "# setting device on GPU if available, else CPU\n",
    "device = torch.device('cuda' if torch.cuda.is_available() else 'cpu')\n",
    "print('Using device:', device)\n",
    "print()\n",
    "\n",
    "#Additional Info when using cuda\n",
    "if device.type == 'cuda':\n",
    "    print(torch.cuda.get_device_name(0))\n",
    "    print('Memory Usage:')\n",
    "    print('Allocated:', round(torch.cuda.memory_allocated(0)/1024**3,1), 'GB')\n",
    "    print('Cached:   ', round(torch.cuda.memory_cached(0)/1024**3,1), 'GB')"
   ]
  },
  {
   "cell_type": "markdown",
   "metadata": {
    "colab_type": "text",
    "id": "H7JOUJCNre_1"
   },
   "source": [
    "# Generator"
   ]
  },
  {
   "cell_type": "code",
   "execution_count": 6,
   "metadata": {
    "colab": {},
    "colab_type": "code",
    "executionInfo": {
     "elapsed": 965,
     "status": "ok",
     "timestamp": 1599237802702,
     "user": {
      "displayName": "Adeep Hande",
      "photoUrl": "",
      "userId": "17121113858594952704"
     },
     "user_tz": -330
    },
    "id": "BOPySn1qre_2"
   },
   "outputs": [],
   "source": [
    "#let us define the class generator of the adversarial Network\n",
    "class Generator(nn.Module):\n",
    "    def __init__(self):\n",
    "        super().__init__()\n",
    "        self.conv1 = nn.Conv2d(3,32,9,padding=4,bias=False)\n",
    "        self.conv2 = nn.Conv2d(32,32,3,padding=1,bias=False)\n",
    "        self.conv3_1 = nn.Conv2d(32,128,3,padding=1,bias=False)\n",
    "        self.conv3_2 = nn.Conv2d(32,128,3,padding=1,bias=False)\n",
    "        self.conv4 = nn.Conv2d(32,3,9,padding=4,bias=False)\n",
    "        self.bn = nn.BatchNorm2d(32)\n",
    "        self.ps = nn.PixelShuffle(2)\n",
    "        self.prelu = nn.PReLU()\n",
    "        \n",
    "    def forward(self,x):\n",
    "        block1 = self.prelu(self.conv1(x))\n",
    "        block2 = torch.add(self.bn(self.conv2(self.prelu(self.bn(self.conv2(block1))))),block1)\n",
    "        block3 = torch.add(self.bn(self.conv2(self.prelu(self.bn(self.conv2(block2))))),block2)\n",
    "        block4 = torch.add(self.bn(self.conv2(self.prelu(self.bn(self.conv2(block3))))),block3)\n",
    "        block5 = torch.add(self.bn(self.conv2(self.prelu(self.bn(self.conv2(block4))))),block4)\n",
    "        block6 = torch.add(self.bn(self.conv2(self.prelu(self.bn(self.conv2(block5))))),block5)\n",
    "        block7 = torch.add(self.bn(self.conv2(block6)),block1)\n",
    "        block8 = self.prelu(self.ps(self.conv3_1(block7)))\n",
    "        block9 = self.prelu(self.ps(self.conv3_2(block8)))\n",
    "        block10 = self.conv4(block9)\n",
    "        return block10"
   ]
  },
  {
   "cell_type": "code",
   "execution_count": null,
   "metadata": {
    "colab": {
     "base_uri": "https://localhost:8080/",
     "height": 850
    },
    "colab_type": "code",
    "executionInfo": {
     "elapsed": 10564,
     "status": "ok",
     "timestamp": 1599237814421,
     "user": {
      "displayName": "Adeep Hande",
      "photoUrl": "",
      "userId": "17121113858594952704"
     },
     "user_tz": -330
    },
    "id": "yVwsprHpre_4",
    "outputId": "30753cbc-e602-4631-9fae-2038eff09f88"
   },
   "outputs": [],
   "source": [
    "#Assigning generator to cuda (if gpu) \n",
    "gen = Generator().to(cuda)\n",
    "summary(gen,(3,32,32))"
   ]
  },
  {
   "cell_type": "markdown",
   "metadata": {
    "colab_type": "text",
    "id": "pAw73I8Jre_6"
   },
   "source": [
    "## Discriminator"
   ]
  },
  {
   "cell_type": "code",
   "execution_count": null,
   "metadata": {
    "colab": {},
    "colab_type": "code",
    "executionInfo": {
     "elapsed": 1020,
     "status": "ok",
     "timestamp": 1599237819783,
     "user": {
      "displayName": "Adeep Hande",
      "photoUrl": "",
      "userId": "17121113858594952704"
     },
     "user_tz": -330
    },
    "id": "qo7ncUKGre_7"
   },
   "outputs": [],
   "source": [
    "#Define the class Discriminator\n",
    "\n",
    "class Discriminator(nn.Module):\n",
    "    \n",
    "    def __init__(self):\n",
    "        super().__init__()\n",
    "        \n",
    "        self.conv1 = nn.Conv2d(3,32,3,padding=1,bias=False)\n",
    "        self.conv2 = nn.Conv2d(32,32,3,stride=2,padding=1,bias=False)\n",
    "        self.bn2 = nn.BatchNorm2d(32)\n",
    "        self.conv3 = nn.Conv2d(32,64,3,padding=1,bias=False)\n",
    "        self.bn3 = nn.BatchNorm2d(64)\n",
    "        self.conv4 = nn.Conv2d(64,64,3,stride=2,padding=1,bias=False)\n",
    "        self.bn4 = nn.BatchNorm2d(64)\n",
    "        self.conv5 = nn.Conv2d(64,128,3,padding=1,bias=False)\n",
    "        self.bn5 = nn.BatchNorm2d(128)\n",
    "        self.conv6 = nn.Conv2d(128,128,3,stride=2,padding=1,bias=False)\n",
    "        self.bn6 = nn.BatchNorm2d(128)\n",
    "        self.conv7 = nn.Conv2d(128,256,3,padding=1,bias=False)\n",
    "        self.bn7 = nn.BatchNorm2d(256)\n",
    "        self.conv8 = nn.Conv2d(256,256,3,stride=2,padding=1,bias=False)\n",
    "        self.bn8 = nn.BatchNorm2d(256)\n",
    "        self.fc1 = nn.Linear(256*16*16,512)\n",
    "        self.fc2 = nn.Linear(512,1)\n",
    "        self.drop = nn.Dropout2d(0.3)\n",
    "    \n",
    "    def forward(self,x):\n",
    "        \n",
    "        block1 = F.leaky_relu(self.conv1(x))\n",
    "        block2 = F.leaky_relu(self.bn2(self.conv2(block1)))\n",
    "        block3 = F.leaky_relu(self.bn3(self.conv3(block2)))\n",
    "        block4 = F.leaky_relu(self.bn4(self.conv4(block3)))\n",
    "        block5 = F.leaky_relu(self.bn5(self.conv5(block4)))\n",
    "        block6 = F.leaky_relu(self.bn6(self.conv6(block5)))\n",
    "        block7 = F.leaky_relu(self.bn7(self.conv7(block6)))\n",
    "        block8 = F.leaky_relu(self.bn8(self.conv8(block7)))\n",
    "        block8 = block8.view(-1,block8.size(1)*block8.size(2)*block8.size(3))\n",
    "        block9 = F.leaky_relu(self.fc1(block8),)\n",
    "        block10 = torch.sigmoid(self.drop(self.fc2(block9)))\n",
    "        return block9,block10"
   ]
  },
  {
   "cell_type": "code",
   "execution_count": null,
   "metadata": {
    "colab": {
     "base_uri": "https://localhost:8080/",
     "height": 544
    },
    "colab_type": "code",
    "executionInfo": {
     "elapsed": 2246,
     "status": "ok",
     "timestamp": 1599237823836,
     "user": {
      "displayName": "Adeep Hande",
      "photoUrl": "",
      "userId": "17121113858594952704"
     },
     "user_tz": -330
    },
    "id": "7DVyZ1Y9re_-",
    "outputId": "7cf9a014-3605-46f8-9aa0-a4f166550146"
   },
   "outputs": [],
   "source": [
    "disc = Discriminator().to(cuda)\n",
    "summary(disc,(3,256,256))"
   ]
  },
  {
   "cell_type": "code",
   "execution_count": null,
   "metadata": {
    "colab": {},
    "colab_type": "code",
    "executionInfo": {
     "elapsed": 1986,
     "status": "ok",
     "timestamp": 1599237828784,
     "user": {
      "displayName": "Adeep Hande",
      "photoUrl": "",
      "userId": "17121113858594952704"
     },
     "user_tz": -330
    },
    "id": "11cY53xjrfAA"
   },
   "outputs": [],
   "source": [
    "gen = Generator().to(cuda).float()\n",
    "disc = Discriminator().to(cuda).float()"
   ]
  },
  {
   "cell_type": "code",
   "execution_count": null,
   "metadata": {
    "colab": {
     "base_uri": "https://localhost:8080/",
     "height": 103,
     "referenced_widgets": [
      "e1f25187d77c4480a3b2b419dfa1986e",
      "aa7721af4b114d039cb112bd2df226f4",
      "115ae695d8d543ceba3ed065db07ba24",
      "6d0730721e2644fe8520fc698e9e39ff",
      "57636f0d84c248b0b020f1e2a2857401",
      "a6a78ea4e633432db34ff1ce52cd7a6a",
      "3fd96a946bb64a929e83b3c5b3c97a82",
      "c6b5a0e623a247a9b2d77a560578eb9e"
     ]
    },
    "colab_type": "code",
    "executionInfo": {
     "elapsed": 23800,
     "status": "ok",
     "timestamp": 1599237854672,
     "user": {
      "displayName": "Adeep Hande",
      "photoUrl": "",
      "userId": "17121113858594952704"
     },
     "user_tz": -330
    },
    "id": "zrJNAJt0rfAC",
    "outputId": "4bcfc7d3-eca1-4199-91eb-9c7d8ba1935e"
   },
   "outputs": [],
   "source": [
    "#Downloading the pretrained VGG model\n",
    "vgg = models.vgg19(pretrained=True).to(cuda)"
   ]
  },
  {
   "cell_type": "code",
   "execution_count": null,
   "metadata": {
    "colab": {},
    "colab_type": "code",
    "executionInfo": {
     "elapsed": 944,
     "status": "ok",
     "timestamp": 1599237858105,
     "user": {
      "displayName": "Adeep Hande",
      "photoUrl": "",
      "userId": "17121113858594952704"
     },
     "user_tz": -330
    },
    "id": "TmGPxgWBrfAF"
   },
   "outputs": [],
   "source": [
    "#Defining the loss functions to be used while training\n",
    "gen_loss = nn.BCELoss()\n",
    "disc_loss = nn.MSELoss()\n",
    "mse_loss = nn.MSELoss()\n",
    "bce_loss = nn.BCELoss()"
   ]
  },
  {
   "cell_type": "code",
   "execution_count": null,
   "metadata": {
    "colab": {},
    "colab_type": "code",
    "executionInfo": {
     "elapsed": 773,
     "status": "ok",
     "timestamp": 1599237860038,
     "user": {
      "displayName": "Adeep Hande",
      "photoUrl": "",
      "userId": "17121113858594952704"
     },
     "user_tz": -330
    },
    "id": "Q35Cx5-FrfAI"
   },
   "outputs": [],
   "source": [
    "#Let us use adam optimizer\n",
    "gen_optimizer = optim.Adam(gen.parameters(),lr=0.0001)\n",
    "disc_optimizer = optim.Adam(disc.parameters(),lr=0.0001)"
   ]
  },
  {
   "cell_type": "code",
   "execution_count": null,
   "metadata": {
    "colab": {},
    "colab_type": "code",
    "executionInfo": {
     "elapsed": 1080,
     "status": "ok",
     "timestamp": 1599237863317,
     "user": {
      "displayName": "Adeep Hande",
      "photoUrl": "",
      "userId": "17121113858594952704"
     },
     "user_tz": -330
    },
    "id": "ujwf-WYyrfAK"
   },
   "outputs": [],
   "source": [
    "def loadImages(imageList,path,resize=False):\n",
    "    images=[]\n",
    "    for image in (imageList):\n",
    "#         print(image)\n",
    "        if resize:\n",
    "            img = cv2.resize(cv2.imread(os.path.join(path,image)),(256,256)) \n",
    "        else:\n",
    "            img = cv2.imread(os.path.join(path,image))\n",
    "#         img = img.reshape(img.shape[2],img.shape[0],img.shape[1])\n",
    "#         print(img.shape)\n",
    "        img = np.moveaxis(img, 2, 0)\n",
    "#         print(img.shape)\n",
    "        images.append(img)\n",
    "    return np.array(images)"
   ]
  },
  {
   "cell_type": "markdown",
   "metadata": {
    "colab_type": "text",
    "id": "wIiTbccQrfAN"
   },
   "source": [
    "# Converting images to Lower Resolution"
   ]
  },
  {
   "cell_type": "code",
   "execution_count": null,
   "metadata": {
    "colab": {},
    "colab_type": "code",
    "executionInfo": {
     "elapsed": 1140,
     "status": "ok",
     "timestamp": 1599237869861,
     "user": {
      "displayName": "Adeep Hande",
      "photoUrl": "",
      "userId": "17121113858594952704"
     },
     "user_tz": -330
    },
    "id": "RZk8legqrfAN"
   },
   "outputs": [],
   "source": [
    "#Resizing the images to 64x64\n",
    "# Henceforth Lower Resolution images\n",
    "\n",
    "def loadLRImages(imagelist,path):\n",
    "    images=[]\n",
    "    for image in (imagelist):\n",
    "        img = cv2.resize(cv2.GaussianBlur(cv2.imread(os.path.join(path,image)),(5,5),cv2.BORDER_DEFAULT),(64,64)) \n",
    "#         img = img.reshape(img.shape[2],img.shape[0],img.shape[1])\n",
    "        img = np.moveaxis(img, 2, 0)\n",
    "        images.append(img)\n",
    "    return np.array(images)"
   ]
  },
  {
   "cell_type": "code",
   "execution_count": null,
   "metadata": {
    "colab": {},
    "colab_type": "code",
    "executionInfo": {
     "elapsed": 1114,
     "status": "ok",
     "timestamp": 1599237873059,
     "user": {
      "displayName": "Adeep Hande",
      "photoUrl": "",
      "userId": "17121113858594952704"
     },
     "user_tz": -330
    },
    "id": "gtvCoejirfAP"
   },
   "outputs": [],
   "source": [
    "def load_checkpoint(filepath):\n",
    "    checkpoint = torch.load(filepath)\n",
    "    model = checkpoint['model']\n",
    "    model.load_state_dict(checkpoint['state_dict'])\n",
    "    for parameter in model.parameters():\n",
    "        parameter.requires_grad = False\n",
    "    model.eval()\n",
    "    \n",
    "    return model"
   ]
  },
  {
   "cell_type": "code",
   "execution_count": null,
   "metadata": {
    "colab": {},
    "colab_type": "code",
    "executionInfo": {
     "elapsed": 997,
     "status": "ok",
     "timestamp": 1599238125394,
     "user": {
      "displayName": "Adeep Hande",
      "photoUrl": "",
      "userId": "17121113858594952704"
     },
     "user_tz": -330
    },
    "id": "g1Fely-trfAR"
   },
   "outputs": [],
   "source": [
    "#to generate high images when input is of low resolution\n",
    "\n",
    "def imagePostProcess(imagedir,modelPath):\n",
    "    imagelist=[]\n",
    "#     images = os.listdir(imagedir)\n",
    "    for img in imagedir:\n",
    "        img = cv2.resize(cv2.imread(os.path.join(hr_path,img)),(64,64)) \n",
    "        imagelist.append(img)\n",
    "    imagearray = np.array(imagelist)/255\n",
    "#     imagearray = (imagedir)/255\n",
    "    # imagearrayPT = np.reshape(imagearray,(len(imagelist),imagearray.shape[3],imagearray.shape[1],imagearray.shape[2]))\n",
    "    imagearrayPT = np.moveaxis(imagearray,3,1)\n",
    "    # print(imagearrayPT.shape)\n",
    "\n",
    "    model = load_checkpoint(modelPath)\n",
    "    im_tensor = torch.from_numpy(imagearrayPT).float()\n",
    "    out_tensor = model(im_tensor)\n",
    "    # print(out_tensor.shape)\n",
    "    # out = np.reshape(out_tensor,[out_tensor.shape[0],out_tensor.shape[2],out_tensor.shape[3],out_tensor.shape[1]])\n",
    "    out = out_tensor.numpy()\n",
    "    out = np.moveaxis(out,1,3)\n",
    "    # print(out.shape)\n",
    "    out = np.clip(out,0,1)\n",
    "    \n",
    "    return out"
   ]
  },
  {
   "cell_type": "code",
   "execution_count": null,
   "metadata": {
    "colab": {},
    "colab_type": "code",
    "executionInfo": {
     "elapsed": 1343,
     "status": "ok",
     "timestamp": 1599237880565,
     "user": {
      "displayName": "Adeep Hande",
      "photoUrl": "",
      "userId": "17121113858594952704"
     },
     "user_tz": -330
    },
    "id": "axG6qwyGrfAT"
   },
   "outputs": [],
   "source": [
    "def show_samples(sample_images):\n",
    "    figure, axes = plt.subplots(1, sample_images.shape[0], figsize = (10,10))\n",
    "    for index, axis in enumerate(axes):\n",
    "        axis.axis('off')\n",
    "        image_array = sample_images[index]\n",
    "        axis.imshow(image_array)\n",
    "        image = Image.fromarray((image_array * 255).astype('uint8'))\n",
    "    plt.savefig(os.path.join(base_path,\"out/SR\")+\"_\"+str(epoch)+\".png\", bbox_inches='tight', pad_inches=0)\n",
    "    plt.show()\n",
    "    plt.close()"
   ]
  },
  {
   "cell_type": "code",
   "execution_count": null,
   "metadata": {
    "colab": {},
    "colab_type": "code",
    "executionInfo": {
     "elapsed": 1040,
     "status": "ok",
     "timestamp": 1599237883422,
     "user": {
      "displayName": "Adeep Hande",
      "photoUrl": "",
      "userId": "17121113858594952704"
     },
     "user_tz": -330
    },
    "id": "CqJVzYURrfAW"
   },
   "outputs": [],
   "source": [
    "epochs = 100\n",
    "batch_size= 16"
   ]
  },
  {
   "cell_type": "code",
   "execution_count": null,
   "metadata": {
    "colab": {
     "base_uri": "https://localhost:8080/",
     "height": 34
    },
    "colab_type": "code",
    "executionInfo": {
     "elapsed": 786,
     "status": "ok",
     "timestamp": 1599237884950,
     "user": {
      "displayName": "Adeep Hande",
      "photoUrl": "",
      "userId": "17121113858594952704"
     },
     "user_tz": -330
    },
    "id": "ELt9mDQgrfAY",
    "outputId": "2efabb74-cc1a-4c56-f64a-feb8d73f402a"
   },
   "outputs": [],
   "source": [
    "import os \n",
    "base_path = os.getcwd()\n",
    "\n",
    "#lr_path = os.path.join(base_path,\"trainImages\")\n",
    "hr_path =celeb_data\n",
    "#valid_path = os.path.join(base_path,\"SR_valid\")\n",
    "weight_file = os.path.join(base_path,\"SRPT_weights\")\n",
    "out_path = os.path.join(base_path,\"out\")\n",
    "\n",
    "if not os.path.exists(weight_file):\n",
    "    os.makedirs(weight_file)\n",
    "\n",
    "if not os.path.exists(out_path):\n",
    "    os.makedirs(out_path)\n",
    "\n",
    "    \n",
    "#LR_images_list = os.listdir(lr_path)\n",
    "HR_images_list = imageList\n",
    "batch_count = len(HR_images_list)//batch_size\n",
    "batch_count"
   ]
  },
  {
   "cell_type": "markdown",
   "metadata": {
    "colab_type": "text",
    "id": "Lbf8Zqe-rfAc"
   },
   "source": [
    "# Training\n"
   ]
  },
  {
   "cell_type": "code",
   "execution_count": null,
   "metadata": {
    "colab": {
     "base_uri": "https://localhost:8080/",
     "height": 384
    },
    "colab_type": "code",
    "executionInfo": {
     "elapsed": 1205,
     "status": "error",
     "timestamp": 1599238131033,
     "user": {
      "displayName": "Adeep Hande",
      "photoUrl": "",
      "userId": "17121113858594952704"
     },
     "user_tz": -330
    },
    "id": "q31zPHeOrfAd",
    "outputId": "5d027e3c-44e0-459d-b267-025238a1c1bb"
   },
   "outputs": [],
   "source": [
    "#batch_count = 31\n",
    "for epoch in range(epochs):\n",
    "    d1loss_list=[]\n",
    "    d2loss_list=[]\n",
    "    gloss_list=[]\n",
    "    vloss_list=[]\n",
    "    mloss_list=[]\n",
    "    \n",
    "    for batch in tqdm(range(batch_count)):\n",
    "        hr_imagesList = [img for img in HR_images_list[batch*batch_size:(batch+1)*batch_size]]\n",
    "        lr_images = loadLRImages(hr_imagesList,hr_path)/255\n",
    "        hr_images = loadImages(hr_imagesList,hr_path,True)/255\n",
    "        \n",
    "                \n",
    "        disc.zero_grad()\n",
    "\n",
    "        gen_out = gen(torch.from_numpy(lr_images).to(cuda).float())\n",
    "        _,f_label = disc(gen_out)\n",
    "        _,r_label = disc(torch.from_numpy(hr_images).to(cuda).float())\n",
    "        d1_loss = (disc_loss(f_label,torch.zeros_like(f_label,dtype=torch.float)))\n",
    "        d2_loss = (disc_loss(r_label,torch.ones_like(r_label,dtype=torch.float)))\n",
    "        # d_loss = d1_loss+d2_loss\n",
    "        d2_loss.backward()\n",
    "        d1_loss.backward(retain_graph=True)\n",
    "        # print(d1_loss,d2_loss)\n",
    "#         d_loss.backward(retain_graph=True)\n",
    "        disc_optimizer.step()\n",
    "        \n",
    "\n",
    "        gen.zero_grad()      \n",
    "        g_loss = gen_loss(f_label.data,torch.ones_like(f_label,dtype=torch.float))\n",
    "        v_loss = vgg_loss(vgg.features[:7](gen_out),vgg.features[:7](torch.from_numpy(hr_images).to(cuda).float()))\n",
    "        m_loss = mse_loss(gen_out,torch.from_numpy(hr_images).to(cuda).float())\n",
    "        \n",
    "        generator_loss = g_loss + v_loss + m_loss\n",
    "        # v_loss.backward(retain_graph=True)\n",
    "        # m_loss.backward(retain_graph=True)\n",
    "        # g_loss.backward()\n",
    "        # print(generator_loss)\n",
    "\n",
    "        generator_loss.backward()\n",
    "        gen_optimizer.step()\n",
    "        \n",
    "        d1loss_list.append(d1_loss.item())\n",
    "        d2loss_list.append(d2_loss.item())\n",
    "        \n",
    "        gloss_list.append(g_loss.item())\n",
    "        vloss_list.append(v_loss.item())\n",
    "        mloss_list.append(m_loss.item())\n",
    "\n",
    "        \n",
    "        \n",
    "#         print(\"d1Loss ::: \"+str((d1_loss.item()))+\" d2Loss ::: \"+str((d2_loss.item())))\n",
    "#         print(\"gloss ::: \"+str((g_loss.item()))+\" vloss ::: \"+str((v_loss.item()))+\" mloss ::: \"+str((m_loss.item())))\n",
    "    print(\"Epoch ::::  \"+str(epoch+1)+\"  d1_loss ::: \"+str(np.mean(d1loss_list))+\"  d2_loss :::\"+str(np.mean(d2loss_list)))\n",
    "    print(\"genLoss ::: \"+str(np.mean(gloss_list))+\"  vggLoss ::: \"+str(np.mean(vloss_list))+\"  MeanLoss  ::: \"+str(np.mean(mloss_list)))\n",
    "    \n",
    "    if(epoch%3==0):\n",
    "        \n",
    "        checkpoint = {'model': Generator(),\n",
    "              'input_size': 64,\n",
    "              'output_size': 256,\n",
    "              'state_dict': gen.state_dict()}\n",
    "        torch.save(checkpoint,os.path.join(weight_file,\"SR\"+str(epoch+1)+\".pth\"))\n",
    "        torch.cuda.empty_cache()\n",
    "        \n",
    "        out_images = imagePostProcess(images[-2:],os.path.join(weight_file,\"SR\"+str(epoch+1)+\".pth\"))\n",
    "#         print(out_images.shape)\n",
    "#         test_images = loadLRImages(images[:-3],hr_path)/255\n",
    "#         test_images = np.reshape(test_images,(test_images[0],test_images.shape[3],test_images.shape[1],test_images.shape[2]))\n",
    "#         out_images = gen(torch.from_numpy(test_images).to(cuda).float())\n",
    "#         out_images = np.reshape(out_images,(out_images[0],out_images[2],out_images[3],out_images[1]))\n",
    "        show_samples(out_images)"
   ]
  },
  {
   "cell_type": "code",
   "execution_count": null,
   "metadata": {
    "colab": {},
    "colab_type": "code",
    "id": "ovRzHvkUrfAf"
   },
   "outputs": [],
   "source": []
  }
 ],
 "metadata": {
  "accelerator": "GPU",
  "colab": {
   "collapsed_sections": [],
   "name": "SRGAN_celebA.ipynb",
   "provenance": [],
   "toc_visible": true
  },
  "kernelspec": {
   "display_name": "Python 3",
   "language": "python",
   "name": "python3"
  },
  "language_info": {
   "codemirror_mode": {
    "name": "ipython",
    "version": 3
   },
   "file_extension": ".py",
   "mimetype": "text/x-python",
   "name": "python",
   "nbconvert_exporter": "python",
   "pygments_lexer": "ipython3",
   "version": "3.8.3"
  },
  "widgets": {
   "application/vnd.jupyter.widget-state+json": {
    "115ae695d8d543ceba3ed065db07ba24": {
     "model_module": "@jupyter-widgets/controls",
     "model_name": "FloatProgressModel",
     "state": {
      "_dom_classes": [],
      "_model_module": "@jupyter-widgets/controls",
      "_model_module_version": "1.5.0",
      "_model_name": "FloatProgressModel",
      "_view_count": null,
      "_view_module": "@jupyter-widgets/controls",
      "_view_module_version": "1.5.0",
      "_view_name": "ProgressView",
      "bar_style": "success",
      "description": "100%",
      "description_tooltip": null,
      "layout": "IPY_MODEL_a6a78ea4e633432db34ff1ce52cd7a6a",
      "max": 574673361,
      "min": 0,
      "orientation": "horizontal",
      "style": "IPY_MODEL_57636f0d84c248b0b020f1e2a2857401",
      "value": 574673361
     }
    },
    "3fd96a946bb64a929e83b3c5b3c97a82": {
     "model_module": "@jupyter-widgets/controls",
     "model_name": "DescriptionStyleModel",
     "state": {
      "_model_module": "@jupyter-widgets/controls",
      "_model_module_version": "1.5.0",
      "_model_name": "DescriptionStyleModel",
      "_view_count": null,
      "_view_module": "@jupyter-widgets/base",
      "_view_module_version": "1.2.0",
      "_view_name": "StyleView",
      "description_width": ""
     }
    },
    "57636f0d84c248b0b020f1e2a2857401": {
     "model_module": "@jupyter-widgets/controls",
     "model_name": "ProgressStyleModel",
     "state": {
      "_model_module": "@jupyter-widgets/controls",
      "_model_module_version": "1.5.0",
      "_model_name": "ProgressStyleModel",
      "_view_count": null,
      "_view_module": "@jupyter-widgets/base",
      "_view_module_version": "1.2.0",
      "_view_name": "StyleView",
      "bar_color": null,
      "description_width": "initial"
     }
    },
    "6d0730721e2644fe8520fc698e9e39ff": {
     "model_module": "@jupyter-widgets/controls",
     "model_name": "HTMLModel",
     "state": {
      "_dom_classes": [],
      "_model_module": "@jupyter-widgets/controls",
      "_model_module_version": "1.5.0",
      "_model_name": "HTMLModel",
      "_view_count": null,
      "_view_module": "@jupyter-widgets/controls",
      "_view_module_version": "1.5.0",
      "_view_name": "HTMLView",
      "description": "",
      "description_tooltip": null,
      "layout": "IPY_MODEL_c6b5a0e623a247a9b2d77a560578eb9e",
      "placeholder": "​",
      "style": "IPY_MODEL_3fd96a946bb64a929e83b3c5b3c97a82",
      "value": " 548M/548M [00:21&lt;00:00, 26.7MB/s]"
     }
    },
    "a6a78ea4e633432db34ff1ce52cd7a6a": {
     "model_module": "@jupyter-widgets/base",
     "model_name": "LayoutModel",
     "state": {
      "_model_module": "@jupyter-widgets/base",
      "_model_module_version": "1.2.0",
      "_model_name": "LayoutModel",
      "_view_count": null,
      "_view_module": "@jupyter-widgets/base",
      "_view_module_version": "1.2.0",
      "_view_name": "LayoutView",
      "align_content": null,
      "align_items": null,
      "align_self": null,
      "border": null,
      "bottom": null,
      "display": null,
      "flex": null,
      "flex_flow": null,
      "grid_area": null,
      "grid_auto_columns": null,
      "grid_auto_flow": null,
      "grid_auto_rows": null,
      "grid_column": null,
      "grid_gap": null,
      "grid_row": null,
      "grid_template_areas": null,
      "grid_template_columns": null,
      "grid_template_rows": null,
      "height": null,
      "justify_content": null,
      "justify_items": null,
      "left": null,
      "margin": null,
      "max_height": null,
      "max_width": null,
      "min_height": null,
      "min_width": null,
      "object_fit": null,
      "object_position": null,
      "order": null,
      "overflow": null,
      "overflow_x": null,
      "overflow_y": null,
      "padding": null,
      "right": null,
      "top": null,
      "visibility": null,
      "width": null
     }
    },
    "aa7721af4b114d039cb112bd2df226f4": {
     "model_module": "@jupyter-widgets/base",
     "model_name": "LayoutModel",
     "state": {
      "_model_module": "@jupyter-widgets/base",
      "_model_module_version": "1.2.0",
      "_model_name": "LayoutModel",
      "_view_count": null,
      "_view_module": "@jupyter-widgets/base",
      "_view_module_version": "1.2.0",
      "_view_name": "LayoutView",
      "align_content": null,
      "align_items": null,
      "align_self": null,
      "border": null,
      "bottom": null,
      "display": null,
      "flex": null,
      "flex_flow": null,
      "grid_area": null,
      "grid_auto_columns": null,
      "grid_auto_flow": null,
      "grid_auto_rows": null,
      "grid_column": null,
      "grid_gap": null,
      "grid_row": null,
      "grid_template_areas": null,
      "grid_template_columns": null,
      "grid_template_rows": null,
      "height": null,
      "justify_content": null,
      "justify_items": null,
      "left": null,
      "margin": null,
      "max_height": null,
      "max_width": null,
      "min_height": null,
      "min_width": null,
      "object_fit": null,
      "object_position": null,
      "order": null,
      "overflow": null,
      "overflow_x": null,
      "overflow_y": null,
      "padding": null,
      "right": null,
      "top": null,
      "visibility": null,
      "width": null
     }
    },
    "c6b5a0e623a247a9b2d77a560578eb9e": {
     "model_module": "@jupyter-widgets/base",
     "model_name": "LayoutModel",
     "state": {
      "_model_module": "@jupyter-widgets/base",
      "_model_module_version": "1.2.0",
      "_model_name": "LayoutModel",
      "_view_count": null,
      "_view_module": "@jupyter-widgets/base",
      "_view_module_version": "1.2.0",
      "_view_name": "LayoutView",
      "align_content": null,
      "align_items": null,
      "align_self": null,
      "border": null,
      "bottom": null,
      "display": null,
      "flex": null,
      "flex_flow": null,
      "grid_area": null,
      "grid_auto_columns": null,
      "grid_auto_flow": null,
      "grid_auto_rows": null,
      "grid_column": null,
      "grid_gap": null,
      "grid_row": null,
      "grid_template_areas": null,
      "grid_template_columns": null,
      "grid_template_rows": null,
      "height": null,
      "justify_content": null,
      "justify_items": null,
      "left": null,
      "margin": null,
      "max_height": null,
      "max_width": null,
      "min_height": null,
      "min_width": null,
      "object_fit": null,
      "object_position": null,
      "order": null,
      "overflow": null,
      "overflow_x": null,
      "overflow_y": null,
      "padding": null,
      "right": null,
      "top": null,
      "visibility": null,
      "width": null
     }
    },
    "e1f25187d77c4480a3b2b419dfa1986e": {
     "model_module": "@jupyter-widgets/controls",
     "model_name": "HBoxModel",
     "state": {
      "_dom_classes": [],
      "_model_module": "@jupyter-widgets/controls",
      "_model_module_version": "1.5.0",
      "_model_name": "HBoxModel",
      "_view_count": null,
      "_view_module": "@jupyter-widgets/controls",
      "_view_module_version": "1.5.0",
      "_view_name": "HBoxView",
      "box_style": "",
      "children": [
       "IPY_MODEL_115ae695d8d543ceba3ed065db07ba24",
       "IPY_MODEL_6d0730721e2644fe8520fc698e9e39ff"
      ],
      "layout": "IPY_MODEL_aa7721af4b114d039cb112bd2df226f4"
     }
    }
   }
  }
 },
 "nbformat": 4,
 "nbformat_minor": 1
}
